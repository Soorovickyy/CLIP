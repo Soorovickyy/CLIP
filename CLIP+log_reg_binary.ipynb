{
  "nbformat": 4,
  "nbformat_minor": 0,
  "metadata": {
    "colab": {
      "name": "CLIP+log_reg_binary.ipynb",
      "provenance": [],
      "authorship_tag": "ABX9TyM30xSfSCQEvWRhgTRnrsQ1",
      "include_colab_link": true
    },
    "kernelspec": {
      "name": "python3",
      "display_name": "Python 3"
    },
    "language_info": {
      "name": "python"
    },
    "accelerator": "GPU"
  },
  "cells": [
    {
      "cell_type": "markdown",
      "metadata": {
        "id": "view-in-github",
        "colab_type": "text"
      },
      "source": [
        "<a href=\"https://colab.research.google.com/github/Soorovickyy/CLIP/blob/main/CLIP%2Blog_reg_binary.ipynb\" target=\"_parent\"><img src=\"https://colab.research.google.com/assets/colab-badge.svg\" alt=\"Open In Colab\"/></a>"
      ]
    },
    {
      "cell_type": "code",
      "execution_count": 1,
      "metadata": {
        "colab": {
          "base_uri": "https://localhost:8080/"
        },
        "id": "d5bmpG9nNw-u",
        "outputId": "2b95719a-01e2-4bbe-bd19-e0675fdcafa2"
      },
      "outputs": [
        {
          "output_type": "stream",
          "name": "stdout",
          "text": [
            "Collecting git+https://github.com/openai/CLIP.git\n",
            "  Cloning https://github.com/openai/CLIP.git to /tmp/pip-req-build-soefgf_f\n",
            "  Running command git clone -q https://github.com/openai/CLIP.git /tmp/pip-req-build-soefgf_f\n",
            "Collecting ftfy\n",
            "  Downloading ftfy-6.1.1-py3-none-any.whl (53 kB)\n",
            "\u001b[K     |████████████████████████████████| 53 kB 1.5 MB/s \n",
            "\u001b[?25hRequirement already satisfied: regex in /usr/local/lib/python3.7/dist-packages (from clip==1.0) (2019.12.20)\n",
            "Requirement already satisfied: tqdm in /usr/local/lib/python3.7/dist-packages (from clip==1.0) (4.64.0)\n",
            "Requirement already satisfied: torch in /usr/local/lib/python3.7/dist-packages (from clip==1.0) (1.10.0+cu111)\n",
            "Requirement already satisfied: torchvision in /usr/local/lib/python3.7/dist-packages (from clip==1.0) (0.11.1+cu111)\n",
            "Requirement already satisfied: wcwidth>=0.2.5 in /usr/local/lib/python3.7/dist-packages (from ftfy->clip==1.0) (0.2.5)\n",
            "Requirement already satisfied: typing-extensions in /usr/local/lib/python3.7/dist-packages (from torch->clip==1.0) (4.1.1)\n",
            "Requirement already satisfied: pillow!=8.3.0,>=5.3.0 in /usr/local/lib/python3.7/dist-packages (from torchvision->clip==1.0) (7.1.2)\n",
            "Requirement already satisfied: numpy in /usr/local/lib/python3.7/dist-packages (from torchvision->clip==1.0) (1.21.6)\n",
            "Building wheels for collected packages: clip\n",
            "  Building wheel for clip (setup.py) ... \u001b[?25l\u001b[?25hdone\n",
            "  Created wheel for clip: filename=clip-1.0-py3-none-any.whl size=1369389 sha256=a776b8bd8481d93ba39842b40bea4e6776f9c0f2f2cdbb325080a7c328504d9e\n",
            "  Stored in directory: /tmp/pip-ephem-wheel-cache-bzbxamir/wheels/fd/b9/c3/5b4470e35ed76e174bff77c92f91da82098d5e35fd5bc8cdac\n",
            "Successfully built clip\n",
            "Installing collected packages: ftfy, clip\n",
            "Successfully installed clip-1.0 ftfy-6.1.1\n"
          ]
        }
      ],
      "source": [
        "pip install git+https://github.com/openai/CLIP.git"
      ]
    },
    {
      "cell_type": "code",
      "source": [
        "import os\n",
        "import clip\n",
        "import torch\n",
        "\n",
        "import numpy as np\n",
        "import pandas as pd\n",
        "from sklearn.linear_model import LogisticRegression\n",
        "from torch.utils.data import DataLoader\n",
        "from torchvision import datasets, transforms\n",
        "from torch.utils.data import DataLoader, SubsetRandomSampler\n",
        "from tqdm import tqdm\n",
        "import matplotlib.pyplot as plt\n",
        "%matplotlib inline\n",
        "from sklearn.metrics import precision_score, recall_score"
      ],
      "metadata": {
        "id": "ucfQSRnIOAOr"
      },
      "execution_count": 2,
      "outputs": []
    },
    {
      "cell_type": "code",
      "source": [
        "from google.colab import drive\n",
        "drive.mount('/content/drive')"
      ],
      "metadata": {
        "colab": {
          "base_uri": "https://localhost:8080/"
        },
        "id": "pOXCvsSLOCwu",
        "outputId": "1613c494-b34d-4128-b660-84d61aed1248"
      },
      "execution_count": 3,
      "outputs": [
        {
          "output_type": "stream",
          "name": "stdout",
          "text": [
            "Mounted at /content/drive\n"
          ]
        }
      ]
    },
    {
      "cell_type": "code",
      "source": [
        "# Load the model\n",
        "device = \"cuda\" if torch.cuda.is_available() else \"cpu\"\n",
        "model, preprocess = clip.load('ViT-B/32', device)"
      ],
      "metadata": {
        "colab": {
          "base_uri": "https://localhost:8080/"
        },
        "id": "_LMk8SaeOIJJ",
        "outputId": "cffee973-4824-40c9-d004-67cc365bea8a"
      },
      "execution_count": 4,
      "outputs": [
        {
          "output_type": "stream",
          "name": "stderr",
          "text": [
            "100%|████████████████████████████████████████| 338M/338M [00:02<00:00, 171MiB/s]\n"
          ]
        }
      ]
    },
    {
      "cell_type": "code",
      "source": [
        "batch_size = 64\n",
        "data_dir = '/content/drive/MyDrive/CLIP/Binary_COVID_IEEE'\n",
        "dataset = datasets.ImageFolder(data_dir, transform=preprocess)\n",
        "img_inds = np.arange(len(dataset))\n",
        "np.random.shuffle(img_inds)\n",
        "train_inds = img_inds[:int(0.8 * len(img_inds))]\n",
        "val_inds = img_inds[int(0.8 * len(img_inds)):]\n",
        "train_loader = DataLoader(\n",
        "    dataset,\n",
        "    batch_size=batch_size,\n",
        "    sampler=SubsetRandomSampler(train_inds)\n",
        ")\n",
        "test_loader = DataLoader(\n",
        "    dataset,\n",
        "    batch_size=batch_size,\n",
        "    sampler=SubsetRandomSampler(val_inds)\n",
        ")"
      ],
      "metadata": {
        "id": "21b0aDZxOLIg"
      },
      "execution_count": 5,
      "outputs": []
    },
    {
      "cell_type": "code",
      "source": [
        "def get_features(dataloder):\n",
        "    all_features = []\n",
        "    all_labels = []\n",
        "    \n",
        "    with torch.no_grad():\n",
        "        for images, labels in tqdm(dataloder):\n",
        "            features = model.encode_image(images.to(device))\n",
        "\n",
        "            all_features.append(features)\n",
        "            all_labels.append(labels)\n",
        "\n",
        "    return torch.cat(all_features).cpu().numpy(), torch.cat(all_labels).cpu().numpy()\n",
        "\n",
        "# Calculate the image features\n",
        "train_features, train_labels = get_features(train_loader)\n",
        "test_features, test_labels = get_features(test_loader)"
      ],
      "metadata": {
        "colab": {
          "base_uri": "https://localhost:8080/"
        },
        "id": "_8NisCcpOVDC",
        "outputId": "200bec35-a023-44c0-fbf9-a326ff99fac4"
      },
      "execution_count": 6,
      "outputs": [
        {
          "output_type": "stream",
          "name": "stderr",
          "text": [
            "100%|██████████| 22/22 [05:22<00:00, 14.66s/it]\n",
            "100%|██████████| 6/6 [01:17<00:00, 12.89s/it]\n"
          ]
        }
      ]
    },
    {
      "cell_type": "code",
      "source": [
        "from sklearn.model_selection import GridSearchCV\n",
        "classifier = LogisticRegression()\n",
        "parametrs = {'penalty': ['l1', 'l2', 'elasticnet'], 'tol': [1e-5, 1e-4, 1e-3], 'multi_class': ['auto', 'ovr', 'multinomial'],\n",
        "             'solver': ['newton-cg', 'lbfgs', 'liblinear', 'sag', 'saga']}\n",
        "grid_search_cv_clf = GridSearchCV(classifier, parametrs, cv=5, n_jobs=-1)\n",
        "grid_search_cv_clf.fit(train_features, train_labels)"
      ],
      "metadata": {
        "colab": {
          "base_uri": "https://localhost:8080/"
        },
        "id": "T-dcogD5OpOO",
        "outputId": "96adfe84-6c13-4ff8-aeca-cc5db507c602"
      },
      "execution_count": 7,
      "outputs": [
        {
          "output_type": "stream",
          "name": "stderr",
          "text": [
            "/usr/local/lib/python3.7/dist-packages/sklearn/model_selection/_validation.py:372: FitFailedWarning: \n",
            "390 fits failed out of a total of 675.\n",
            "The score on these train-test partitions for these parameters will be set to nan.\n",
            "If these failures are not expected, you can try to debug them by setting error_score='raise'.\n",
            "\n",
            "Below are more details about the failures:\n",
            "--------------------------------------------------------------------------------\n",
            "45 fits failed with the following error:\n",
            "Traceback (most recent call last):\n",
            "  File \"/usr/local/lib/python3.7/dist-packages/sklearn/model_selection/_validation.py\", line 680, in _fit_and_score\n",
            "    estimator.fit(X_train, y_train, **fit_params)\n",
            "  File \"/usr/local/lib/python3.7/dist-packages/sklearn/linear_model/_logistic.py\", line 1461, in fit\n",
            "    solver = _check_solver(self.solver, self.penalty, self.dual)\n",
            "  File \"/usr/local/lib/python3.7/dist-packages/sklearn/linear_model/_logistic.py\", line 449, in _check_solver\n",
            "    % (solver, penalty)\n",
            "ValueError: Solver newton-cg supports only 'l2' or 'none' penalties, got l1 penalty.\n",
            "\n",
            "--------------------------------------------------------------------------------\n",
            "45 fits failed with the following error:\n",
            "Traceback (most recent call last):\n",
            "  File \"/usr/local/lib/python3.7/dist-packages/sklearn/model_selection/_validation.py\", line 680, in _fit_and_score\n",
            "    estimator.fit(X_train, y_train, **fit_params)\n",
            "  File \"/usr/local/lib/python3.7/dist-packages/sklearn/linear_model/_logistic.py\", line 1461, in fit\n",
            "    solver = _check_solver(self.solver, self.penalty, self.dual)\n",
            "  File \"/usr/local/lib/python3.7/dist-packages/sklearn/linear_model/_logistic.py\", line 449, in _check_solver\n",
            "    % (solver, penalty)\n",
            "ValueError: Solver lbfgs supports only 'l2' or 'none' penalties, got l1 penalty.\n",
            "\n",
            "--------------------------------------------------------------------------------\n",
            "45 fits failed with the following error:\n",
            "Traceback (most recent call last):\n",
            "  File \"/usr/local/lib/python3.7/dist-packages/sklearn/model_selection/_validation.py\", line 680, in _fit_and_score\n",
            "    estimator.fit(X_train, y_train, **fit_params)\n",
            "  File \"/usr/local/lib/python3.7/dist-packages/sklearn/linear_model/_logistic.py\", line 1461, in fit\n",
            "    solver = _check_solver(self.solver, self.penalty, self.dual)\n",
            "  File \"/usr/local/lib/python3.7/dist-packages/sklearn/linear_model/_logistic.py\", line 449, in _check_solver\n",
            "    % (solver, penalty)\n",
            "ValueError: Solver sag supports only 'l2' or 'none' penalties, got l1 penalty.\n",
            "\n",
            "--------------------------------------------------------------------------------\n",
            "45 fits failed with the following error:\n",
            "Traceback (most recent call last):\n",
            "  File \"/usr/local/lib/python3.7/dist-packages/sklearn/model_selection/_validation.py\", line 680, in _fit_and_score\n",
            "    estimator.fit(X_train, y_train, **fit_params)\n",
            "  File \"/usr/local/lib/python3.7/dist-packages/sklearn/linear_model/_logistic.py\", line 1461, in fit\n",
            "    solver = _check_solver(self.solver, self.penalty, self.dual)\n",
            "  File \"/usr/local/lib/python3.7/dist-packages/sklearn/linear_model/_logistic.py\", line 449, in _check_solver\n",
            "    % (solver, penalty)\n",
            "ValueError: Solver newton-cg supports only 'l2' or 'none' penalties, got elasticnet penalty.\n",
            "\n",
            "--------------------------------------------------------------------------------\n",
            "45 fits failed with the following error:\n",
            "Traceback (most recent call last):\n",
            "  File \"/usr/local/lib/python3.7/dist-packages/sklearn/model_selection/_validation.py\", line 680, in _fit_and_score\n",
            "    estimator.fit(X_train, y_train, **fit_params)\n",
            "  File \"/usr/local/lib/python3.7/dist-packages/sklearn/linear_model/_logistic.py\", line 1461, in fit\n",
            "    solver = _check_solver(self.solver, self.penalty, self.dual)\n",
            "  File \"/usr/local/lib/python3.7/dist-packages/sklearn/linear_model/_logistic.py\", line 449, in _check_solver\n",
            "    % (solver, penalty)\n",
            "ValueError: Solver lbfgs supports only 'l2' or 'none' penalties, got elasticnet penalty.\n",
            "\n",
            "--------------------------------------------------------------------------------\n",
            "45 fits failed with the following error:\n",
            "Traceback (most recent call last):\n",
            "  File \"/usr/local/lib/python3.7/dist-packages/sklearn/model_selection/_validation.py\", line 680, in _fit_and_score\n",
            "    estimator.fit(X_train, y_train, **fit_params)\n",
            "  File \"/usr/local/lib/python3.7/dist-packages/sklearn/linear_model/_logistic.py\", line 1461, in fit\n",
            "    solver = _check_solver(self.solver, self.penalty, self.dual)\n",
            "  File \"/usr/local/lib/python3.7/dist-packages/sklearn/linear_model/_logistic.py\", line 459, in _check_solver\n",
            "    solver\n",
            "ValueError: Only 'saga' solver supports elasticnet penalty, got solver=liblinear.\n",
            "\n",
            "--------------------------------------------------------------------------------\n",
            "45 fits failed with the following error:\n",
            "Traceback (most recent call last):\n",
            "  File \"/usr/local/lib/python3.7/dist-packages/sklearn/model_selection/_validation.py\", line 680, in _fit_and_score\n",
            "    estimator.fit(X_train, y_train, **fit_params)\n",
            "  File \"/usr/local/lib/python3.7/dist-packages/sklearn/linear_model/_logistic.py\", line 1461, in fit\n",
            "    solver = _check_solver(self.solver, self.penalty, self.dual)\n",
            "  File \"/usr/local/lib/python3.7/dist-packages/sklearn/linear_model/_logistic.py\", line 449, in _check_solver\n",
            "    % (solver, penalty)\n",
            "ValueError: Solver sag supports only 'l2' or 'none' penalties, got elasticnet penalty.\n",
            "\n",
            "--------------------------------------------------------------------------------\n",
            "45 fits failed with the following error:\n",
            "Traceback (most recent call last):\n",
            "  File \"/usr/local/lib/python3.7/dist-packages/sklearn/model_selection/_validation.py\", line 680, in _fit_and_score\n",
            "    estimator.fit(X_train, y_train, **fit_params)\n",
            "  File \"/usr/local/lib/python3.7/dist-packages/sklearn/linear_model/_logistic.py\", line 1473, in fit\n",
            "    % self.l1_ratio\n",
            "ValueError: l1_ratio must be between 0 and 1; got (l1_ratio=None)\n",
            "\n",
            "--------------------------------------------------------------------------------\n",
            "30 fits failed with the following error:\n",
            "Traceback (most recent call last):\n",
            "  File \"/usr/local/lib/python3.7/dist-packages/sklearn/model_selection/_validation.py\", line 680, in _fit_and_score\n",
            "    estimator.fit(X_train, y_train, **fit_params)\n",
            "  File \"/usr/local/lib/python3.7/dist-packages/sklearn/linear_model/_logistic.py\", line 1519, in fit\n",
            "    multi_class = _check_multi_class(self.multi_class, solver, len(self.classes_))\n",
            "  File \"/usr/local/lib/python3.7/dist-packages/sklearn/linear_model/_logistic.py\", line 483, in _check_multi_class\n",
            "    raise ValueError(\"Solver %s does not support a multinomial backend.\" % solver)\n",
            "ValueError: Solver liblinear does not support a multinomial backend.\n",
            "\n",
            "  warnings.warn(some_fits_failed_message, FitFailedWarning)\n",
            "/usr/local/lib/python3.7/dist-packages/sklearn/model_selection/_search.py:972: UserWarning: One or more of the test scores are non-finite: [       nan        nan        nan        nan        nan        nan\n",
            " 0.94068875 0.94068875 0.94215128        nan        nan        nan\n",
            " 0.94068608 0.94141868 0.94068608 0.94142135 0.94142135 0.94142135\n",
            " 0.94215395 0.94215395 0.94215395 0.94142135 0.94142135 0.94215395\n",
            " 0.94215395 0.94215395 0.94142135 0.94069143 0.94069143 0.94069143\n",
            "        nan        nan        nan        nan        nan        nan\n",
            "        nan        nan        nan        nan        nan        nan\n",
            "        nan        nan        nan        nan        nan        nan\n",
            "        nan        nan        nan 0.93995615 0.94068875 0.94215395\n",
            "        nan        nan        nan 0.93995348 0.94141868 0.94068608\n",
            " 0.94142135 0.94142135 0.94142135 0.94215395 0.94215395 0.94215395\n",
            " 0.94142135 0.94142135 0.94215395 0.94215395 0.94215395 0.94142135\n",
            " 0.94069143 0.94069143 0.94069143        nan        nan        nan\n",
            "        nan        nan        nan        nan        nan        nan\n",
            "        nan        nan        nan        nan        nan        nan\n",
            "        nan        nan        nan        nan        nan        nan\n",
            "        nan        nan        nan        nan        nan        nan\n",
            " 0.94361915 0.94361915 0.94361915 0.94654956 0.94654956 0.94654956\n",
            " 0.94728216 0.94728216 0.94728216        nan        nan        nan\n",
            " 0.94874736 0.94874736 0.94874736 0.94654956 0.94654956 0.94654956\n",
            "        nan        nan        nan        nan        nan        nan\n",
            "        nan        nan        nan        nan        nan        nan\n",
            "        nan        nan        nan]\n",
            "  category=UserWarning,\n",
            "/usr/local/lib/python3.7/dist-packages/sklearn/linear_model/_sag.py:354: ConvergenceWarning: The max_iter was reached which means the coef_ did not converge\n",
            "  ConvergenceWarning,\n"
          ]
        },
        {
          "output_type": "execute_result",
          "data": {
            "text/plain": [
              "GridSearchCV(cv=5, estimator=LogisticRegression(), n_jobs=-1,\n",
              "             param_grid={'multi_class': ['auto', 'ovr', 'multinomial'],\n",
              "                         'penalty': ['l1', 'l2', 'elasticnet'],\n",
              "                         'solver': ['newton-cg', 'lbfgs', 'liblinear', 'sag',\n",
              "                                    'saga'],\n",
              "                         'tol': [1e-05, 0.0001, 0.001]})"
            ]
          },
          "metadata": {},
          "execution_count": 7
        }
      ]
    },
    {
      "cell_type": "code",
      "source": [
        "grid_search_cv_clf.best_params_"
      ],
      "metadata": {
        "colab": {
          "base_uri": "https://localhost:8080/"
        },
        "id": "NfbO9KzBOsnY",
        "outputId": "c040fdf2-e3d8-4391-b3cb-9e2e29bdcc69"
      },
      "execution_count": 8,
      "outputs": [
        {
          "output_type": "execute_result",
          "data": {
            "text/plain": [
              "{'multi_class': 'multinomial', 'penalty': 'l2', 'solver': 'sag', 'tol': 1e-05}"
            ]
          },
          "metadata": {},
          "execution_count": 8
        }
      ]
    },
    {
      "cell_type": "code",
      "source": [
        "best_clf = grid_search_cv_clf.best_estimator_\n",
        "best_clf.fit(train_features, train_labels)\n",
        "\n",
        "# Evaluate using the logistic regression classifier\n",
        "predictions = best_clf.predict(test_features)\n",
        "accuracy = np.mean((test_labels == predictions).astype(np.float)) * 100.\n",
        "print(f\"Accuracy = {accuracy:.3f}\")"
      ],
      "metadata": {
        "colab": {
          "base_uri": "https://localhost:8080/"
        },
        "id": "vRMIp0uJOwJJ",
        "outputId": "8d98e9d8-2406-4be3-ac02-8118bcda73b2"
      },
      "execution_count": 9,
      "outputs": [
        {
          "output_type": "stream",
          "name": "stdout",
          "text": [
            "Accuracy = 95.906\n"
          ]
        },
        {
          "output_type": "stream",
          "name": "stderr",
          "text": [
            "/usr/local/lib/python3.7/dist-packages/sklearn/linear_model/_sag.py:354: ConvergenceWarning: The max_iter was reached which means the coef_ did not converge\n",
            "  ConvergenceWarning,\n",
            "/usr/local/lib/python3.7/dist-packages/ipykernel_launcher.py:6: DeprecationWarning: `np.float` is a deprecated alias for the builtin `float`. To silence this warning, use `float` by itself. Doing this will not modify any behavior and is safe. If you specifically wanted the numpy scalar type, use `np.float64` here.\n",
            "Deprecated in NumPy 1.20; for more details and guidance: https://numpy.org/devdocs/release/1.20.0-notes.html#deprecations\n",
            "  \n"
          ]
        }
      ]
    },
    {
      "cell_type": "code",
      "source": [
        "y_predicted_prob = best_clf.predict_proba(test_features)\n",
        "y_onehot = pd.get_dummies(test_labels, columns=best_clf.classes_)\n",
        "y_onehot = y_onehot.rename(columns={0: 'Healthy', 1: 'Ill'})"
      ],
      "metadata": {
        "id": "y-NowNconckW"
      },
      "execution_count": 55,
      "outputs": []
    },
    {
      "cell_type": "code",
      "source": [
        "pred = np.where(y_predicted_prob[:,1] > 0.4, 1, 0)"
      ],
      "metadata": {
        "id": "Q6OERYsCoBv5"
      },
      "execution_count": 56,
      "outputs": []
    },
    {
      "cell_type": "code",
      "source": [
        "recall_score(test_labels, pred)"
      ],
      "metadata": {
        "colab": {
          "base_uri": "https://localhost:8080/"
        },
        "id": "PBffZgGdoJmd",
        "outputId": "4eea0c1e-781e-47b7-9bbc-241b1d87a1ef"
      },
      "execution_count": 57,
      "outputs": [
        {
          "output_type": "execute_result",
          "data": {
            "text/plain": [
              "0.9757281553398058"
            ]
          },
          "metadata": {},
          "execution_count": 57
        }
      ]
    },
    {
      "cell_type": "code",
      "source": [
        "precision_score(test_labels, pred)"
      ],
      "metadata": {
        "colab": {
          "base_uri": "https://localhost:8080/"
        },
        "id": "-Otv7Rl_obyx",
        "outputId": "13eec38d-d01e-47b7-b4e3-e286c34a0059"
      },
      "execution_count": 58,
      "outputs": [
        {
          "output_type": "execute_result",
          "data": {
            "text/plain": [
              "0.9663461538461539"
            ]
          },
          "metadata": {},
          "execution_count": 58
        }
      ]
    },
    {
      "cell_type": "code",
      "source": [
        "import plotly.graph_objects as go\n",
        "import plotly.express as px\n",
        "from sklearn.metrics import roc_curve, roc_auc_score\n",
        "\n",
        "fig = go.Figure()\n",
        "fig.add_shape(\n",
        "    type='line', line=dict(dash='dash'),\n",
        "    x0=0, x1=1, y0=0, y1=1\n",
        ")\n",
        "\n",
        "for i in range(y_predicted_prob.shape[1]):\n",
        "    y_true = y_onehot.iloc[:, i]\n",
        "    y_score = y_predicted_prob[:, i]\n",
        "\n",
        "    fpr, tpr, _ = roc_curve(y_true, y_score)\n",
        "    auc_score = roc_auc_score(y_true, y_score)\n",
        "\n",
        "    name = f\"{y_onehot.columns[i]} (AUC={auc_score:.2f})\"\n",
        "    fig.add_trace(go.Scatter(x=fpr, y=tpr, name=name, mode='lines'))\n",
        "\n",
        "fig.update_layout(\n",
        "    xaxis_title='False Positive Rate',\n",
        "    yaxis_title='True Positive Rate',\n",
        "    yaxis=dict(scaleanchor=\"x\", scaleratio=1),\n",
        "    xaxis=dict(constrain='domain'),\n",
        "    width=700, height=500\n",
        ")\n",
        "fig.show()"
      ],
      "metadata": {
        "colab": {
          "base_uri": "https://localhost:8080/",
          "height": 517
        },
        "id": "1J2zLnR6o28W",
        "outputId": "93b3ad21-5fc4-489b-c91c-fe36802ea60f"
      },
      "execution_count": 59,
      "outputs": [
        {
          "output_type": "display_data",
          "data": {
            "text/html": [
              "<html>\n",
              "<head><meta charset=\"utf-8\" /></head>\n",
              "<body>\n",
              "    <div>            <script src=\"https://cdnjs.cloudflare.com/ajax/libs/mathjax/2.7.5/MathJax.js?config=TeX-AMS-MML_SVG\"></script><script type=\"text/javascript\">if (window.MathJax) {MathJax.Hub.Config({SVG: {font: \"STIX-Web\"}});}</script>                <script type=\"text/javascript\">window.PlotlyConfig = {MathJaxConfig: 'local'};</script>\n",
              "        <script src=\"https://cdn.plot.ly/plotly-2.8.3.min.js\"></script>                <div id=\"1d522863-330e-4ca7-9675-4d6c39afa8f9\" class=\"plotly-graph-div\" style=\"height:500px; width:700px;\"></div>            <script type=\"text/javascript\">                                    window.PLOTLYENV=window.PLOTLYENV || {};                                    if (document.getElementById(\"1d522863-330e-4ca7-9675-4d6c39afa8f9\")) {                    Plotly.newPlot(                        \"1d522863-330e-4ca7-9675-4d6c39afa8f9\",                        [{\"mode\":\"lines\",\"name\":\"Healthy (AUC=0.99)\",\"x\":[0.0,0.0,0.0,0.0048543689320388345,0.0048543689320388345,0.009708737864077669,0.009708737864077669,0.014563106796116505,0.014563106796116505,0.019417475728155338,0.019417475728155338,0.024271844660194174,0.024271844660194174,0.03398058252427184,0.03398058252427184,0.043689320388349516,0.043689320388349516,0.04854368932038835,0.04854368932038835,0.06310679611650485,0.06310679611650485,0.1553398058252427,0.1553398058252427,0.18446601941747573,0.1941747572815534,0.2766990291262136,0.28640776699029125,0.30097087378640774,0.3300970873786408,0.3300970873786408,0.7766990291262136,0.7864077669902912,0.9660194174757282,0.9757281553398058,1.0],\"y\":[0.0,0.007352941176470588,0.41911764705882354,0.41911764705882354,0.8235294117647058,0.8235294117647058,0.8382352941176471,0.8382352941176471,0.8455882352941176,0.8455882352941176,0.9411764705882353,0.9411764705882353,0.9558823529411765,0.9558823529411765,0.9632352941176471,0.9632352941176471,0.9705882352941176,0.9705882352941176,0.9779411764705882,0.9779411764705882,0.9852941176470589,0.9852941176470589,0.9926470588235294,0.9926470588235294,0.9926470588235294,0.9926470588235294,0.9926470588235294,0.9926470588235294,0.9926470588235294,1.0,1.0,1.0,1.0,1.0,1.0],\"type\":\"scatter\"},{\"mode\":\"lines\",\"name\":\"Ill (AUC=0.99)\",\"x\":[0.0,0.0,0.0,0.0,0.0,0.0,0.0,0.007352941176470588,0.007352941176470588,0.007352941176470588,0.007352941176470588,0.007352941176470588,0.007352941176470588,0.007352941176470588,0.014705882352941176,0.014705882352941176,0.022058823529411766,0.022058823529411766,0.029411764705882353,0.029411764705882353,0.03676470588235294,0.03676470588235294,0.04411764705882353,0.04411764705882353,0.058823529411764705,0.058823529411764705,0.15441176470588236,0.15441176470588236,0.16176470588235295,0.16176470588235295,0.17647058823529413,0.17647058823529413,0.5808823529411765,0.5808823529411765,1.0],\"y\":[0.0,0.0048543689320388345,0.024271844660194174,0.03398058252427184,0.21359223300970873,0.22330097087378642,0.6699029126213593,0.6699029126213593,0.6990291262135923,0.7135922330097088,0.7233009708737864,0.8058252427184466,0.8155339805825242,0.8446601941747572,0.8446601941747572,0.9368932038834952,0.9368932038834952,0.9514563106796117,0.9514563106796117,0.9563106796116505,0.9563106796116505,0.9660194174757282,0.9660194174757282,0.9757281553398058,0.9757281553398058,0.9805825242718447,0.9805825242718447,0.9854368932038835,0.9854368932038835,0.9902912621359223,0.9902912621359223,0.9951456310679612,0.9951456310679612,1.0,1.0],\"type\":\"scatter\"}],                        {\"template\":{\"data\":{\"bar\":[{\"error_x\":{\"color\":\"#2a3f5f\"},\"error_y\":{\"color\":\"#2a3f5f\"},\"marker\":{\"line\":{\"color\":\"#E5ECF6\",\"width\":0.5},\"pattern\":{\"fillmode\":\"overlay\",\"size\":10,\"solidity\":0.2}},\"type\":\"bar\"}],\"barpolar\":[{\"marker\":{\"line\":{\"color\":\"#E5ECF6\",\"width\":0.5},\"pattern\":{\"fillmode\":\"overlay\",\"size\":10,\"solidity\":0.2}},\"type\":\"barpolar\"}],\"carpet\":[{\"aaxis\":{\"endlinecolor\":\"#2a3f5f\",\"gridcolor\":\"white\",\"linecolor\":\"white\",\"minorgridcolor\":\"white\",\"startlinecolor\":\"#2a3f5f\"},\"baxis\":{\"endlinecolor\":\"#2a3f5f\",\"gridcolor\":\"white\",\"linecolor\":\"white\",\"minorgridcolor\":\"white\",\"startlinecolor\":\"#2a3f5f\"},\"type\":\"carpet\"}],\"choropleth\":[{\"colorbar\":{\"outlinewidth\":0,\"ticks\":\"\"},\"type\":\"choropleth\"}],\"contour\":[{\"colorbar\":{\"outlinewidth\":0,\"ticks\":\"\"},\"colorscale\":[[0.0,\"#0d0887\"],[0.1111111111111111,\"#46039f\"],[0.2222222222222222,\"#7201a8\"],[0.3333333333333333,\"#9c179e\"],[0.4444444444444444,\"#bd3786\"],[0.5555555555555556,\"#d8576b\"],[0.6666666666666666,\"#ed7953\"],[0.7777777777777778,\"#fb9f3a\"],[0.8888888888888888,\"#fdca26\"],[1.0,\"#f0f921\"]],\"type\":\"contour\"}],\"contourcarpet\":[{\"colorbar\":{\"outlinewidth\":0,\"ticks\":\"\"},\"type\":\"contourcarpet\"}],\"heatmap\":[{\"colorbar\":{\"outlinewidth\":0,\"ticks\":\"\"},\"colorscale\":[[0.0,\"#0d0887\"],[0.1111111111111111,\"#46039f\"],[0.2222222222222222,\"#7201a8\"],[0.3333333333333333,\"#9c179e\"],[0.4444444444444444,\"#bd3786\"],[0.5555555555555556,\"#d8576b\"],[0.6666666666666666,\"#ed7953\"],[0.7777777777777778,\"#fb9f3a\"],[0.8888888888888888,\"#fdca26\"],[1.0,\"#f0f921\"]],\"type\":\"heatmap\"}],\"heatmapgl\":[{\"colorbar\":{\"outlinewidth\":0,\"ticks\":\"\"},\"colorscale\":[[0.0,\"#0d0887\"],[0.1111111111111111,\"#46039f\"],[0.2222222222222222,\"#7201a8\"],[0.3333333333333333,\"#9c179e\"],[0.4444444444444444,\"#bd3786\"],[0.5555555555555556,\"#d8576b\"],[0.6666666666666666,\"#ed7953\"],[0.7777777777777778,\"#fb9f3a\"],[0.8888888888888888,\"#fdca26\"],[1.0,\"#f0f921\"]],\"type\":\"heatmapgl\"}],\"histogram\":[{\"marker\":{\"pattern\":{\"fillmode\":\"overlay\",\"size\":10,\"solidity\":0.2}},\"type\":\"histogram\"}],\"histogram2d\":[{\"colorbar\":{\"outlinewidth\":0,\"ticks\":\"\"},\"colorscale\":[[0.0,\"#0d0887\"],[0.1111111111111111,\"#46039f\"],[0.2222222222222222,\"#7201a8\"],[0.3333333333333333,\"#9c179e\"],[0.4444444444444444,\"#bd3786\"],[0.5555555555555556,\"#d8576b\"],[0.6666666666666666,\"#ed7953\"],[0.7777777777777778,\"#fb9f3a\"],[0.8888888888888888,\"#fdca26\"],[1.0,\"#f0f921\"]],\"type\":\"histogram2d\"}],\"histogram2dcontour\":[{\"colorbar\":{\"outlinewidth\":0,\"ticks\":\"\"},\"colorscale\":[[0.0,\"#0d0887\"],[0.1111111111111111,\"#46039f\"],[0.2222222222222222,\"#7201a8\"],[0.3333333333333333,\"#9c179e\"],[0.4444444444444444,\"#bd3786\"],[0.5555555555555556,\"#d8576b\"],[0.6666666666666666,\"#ed7953\"],[0.7777777777777778,\"#fb9f3a\"],[0.8888888888888888,\"#fdca26\"],[1.0,\"#f0f921\"]],\"type\":\"histogram2dcontour\"}],\"mesh3d\":[{\"colorbar\":{\"outlinewidth\":0,\"ticks\":\"\"},\"type\":\"mesh3d\"}],\"parcoords\":[{\"line\":{\"colorbar\":{\"outlinewidth\":0,\"ticks\":\"\"}},\"type\":\"parcoords\"}],\"pie\":[{\"automargin\":true,\"type\":\"pie\"}],\"scatter\":[{\"marker\":{\"colorbar\":{\"outlinewidth\":0,\"ticks\":\"\"}},\"type\":\"scatter\"}],\"scatter3d\":[{\"line\":{\"colorbar\":{\"outlinewidth\":0,\"ticks\":\"\"}},\"marker\":{\"colorbar\":{\"outlinewidth\":0,\"ticks\":\"\"}},\"type\":\"scatter3d\"}],\"scattercarpet\":[{\"marker\":{\"colorbar\":{\"outlinewidth\":0,\"ticks\":\"\"}},\"type\":\"scattercarpet\"}],\"scattergeo\":[{\"marker\":{\"colorbar\":{\"outlinewidth\":0,\"ticks\":\"\"}},\"type\":\"scattergeo\"}],\"scattergl\":[{\"marker\":{\"colorbar\":{\"outlinewidth\":0,\"ticks\":\"\"}},\"type\":\"scattergl\"}],\"scattermapbox\":[{\"marker\":{\"colorbar\":{\"outlinewidth\":0,\"ticks\":\"\"}},\"type\":\"scattermapbox\"}],\"scatterpolar\":[{\"marker\":{\"colorbar\":{\"outlinewidth\":0,\"ticks\":\"\"}},\"type\":\"scatterpolar\"}],\"scatterpolargl\":[{\"marker\":{\"colorbar\":{\"outlinewidth\":0,\"ticks\":\"\"}},\"type\":\"scatterpolargl\"}],\"scatterternary\":[{\"marker\":{\"colorbar\":{\"outlinewidth\":0,\"ticks\":\"\"}},\"type\":\"scatterternary\"}],\"surface\":[{\"colorbar\":{\"outlinewidth\":0,\"ticks\":\"\"},\"colorscale\":[[0.0,\"#0d0887\"],[0.1111111111111111,\"#46039f\"],[0.2222222222222222,\"#7201a8\"],[0.3333333333333333,\"#9c179e\"],[0.4444444444444444,\"#bd3786\"],[0.5555555555555556,\"#d8576b\"],[0.6666666666666666,\"#ed7953\"],[0.7777777777777778,\"#fb9f3a\"],[0.8888888888888888,\"#fdca26\"],[1.0,\"#f0f921\"]],\"type\":\"surface\"}],\"table\":[{\"cells\":{\"fill\":{\"color\":\"#EBF0F8\"},\"line\":{\"color\":\"white\"}},\"header\":{\"fill\":{\"color\":\"#C8D4E3\"},\"line\":{\"color\":\"white\"}},\"type\":\"table\"}]},\"layout\":{\"annotationdefaults\":{\"arrowcolor\":\"#2a3f5f\",\"arrowhead\":0,\"arrowwidth\":1},\"autotypenumbers\":\"strict\",\"coloraxis\":{\"colorbar\":{\"outlinewidth\":0,\"ticks\":\"\"}},\"colorscale\":{\"diverging\":[[0,\"#8e0152\"],[0.1,\"#c51b7d\"],[0.2,\"#de77ae\"],[0.3,\"#f1b6da\"],[0.4,\"#fde0ef\"],[0.5,\"#f7f7f7\"],[0.6,\"#e6f5d0\"],[0.7,\"#b8e186\"],[0.8,\"#7fbc41\"],[0.9,\"#4d9221\"],[1,\"#276419\"]],\"sequential\":[[0.0,\"#0d0887\"],[0.1111111111111111,\"#46039f\"],[0.2222222222222222,\"#7201a8\"],[0.3333333333333333,\"#9c179e\"],[0.4444444444444444,\"#bd3786\"],[0.5555555555555556,\"#d8576b\"],[0.6666666666666666,\"#ed7953\"],[0.7777777777777778,\"#fb9f3a\"],[0.8888888888888888,\"#fdca26\"],[1.0,\"#f0f921\"]],\"sequentialminus\":[[0.0,\"#0d0887\"],[0.1111111111111111,\"#46039f\"],[0.2222222222222222,\"#7201a8\"],[0.3333333333333333,\"#9c179e\"],[0.4444444444444444,\"#bd3786\"],[0.5555555555555556,\"#d8576b\"],[0.6666666666666666,\"#ed7953\"],[0.7777777777777778,\"#fb9f3a\"],[0.8888888888888888,\"#fdca26\"],[1.0,\"#f0f921\"]]},\"colorway\":[\"#636efa\",\"#EF553B\",\"#00cc96\",\"#ab63fa\",\"#FFA15A\",\"#19d3f3\",\"#FF6692\",\"#B6E880\",\"#FF97FF\",\"#FECB52\"],\"font\":{\"color\":\"#2a3f5f\"},\"geo\":{\"bgcolor\":\"white\",\"lakecolor\":\"white\",\"landcolor\":\"#E5ECF6\",\"showlakes\":true,\"showland\":true,\"subunitcolor\":\"white\"},\"hoverlabel\":{\"align\":\"left\"},\"hovermode\":\"closest\",\"mapbox\":{\"style\":\"light\"},\"paper_bgcolor\":\"white\",\"plot_bgcolor\":\"#E5ECF6\",\"polar\":{\"angularaxis\":{\"gridcolor\":\"white\",\"linecolor\":\"white\",\"ticks\":\"\"},\"bgcolor\":\"#E5ECF6\",\"radialaxis\":{\"gridcolor\":\"white\",\"linecolor\":\"white\",\"ticks\":\"\"}},\"scene\":{\"xaxis\":{\"backgroundcolor\":\"#E5ECF6\",\"gridcolor\":\"white\",\"gridwidth\":2,\"linecolor\":\"white\",\"showbackground\":true,\"ticks\":\"\",\"zerolinecolor\":\"white\"},\"yaxis\":{\"backgroundcolor\":\"#E5ECF6\",\"gridcolor\":\"white\",\"gridwidth\":2,\"linecolor\":\"white\",\"showbackground\":true,\"ticks\":\"\",\"zerolinecolor\":\"white\"},\"zaxis\":{\"backgroundcolor\":\"#E5ECF6\",\"gridcolor\":\"white\",\"gridwidth\":2,\"linecolor\":\"white\",\"showbackground\":true,\"ticks\":\"\",\"zerolinecolor\":\"white\"}},\"shapedefaults\":{\"line\":{\"color\":\"#2a3f5f\"}},\"ternary\":{\"aaxis\":{\"gridcolor\":\"white\",\"linecolor\":\"white\",\"ticks\":\"\"},\"baxis\":{\"gridcolor\":\"white\",\"linecolor\":\"white\",\"ticks\":\"\"},\"bgcolor\":\"#E5ECF6\",\"caxis\":{\"gridcolor\":\"white\",\"linecolor\":\"white\",\"ticks\":\"\"}},\"title\":{\"x\":0.05},\"xaxis\":{\"automargin\":true,\"gridcolor\":\"white\",\"linecolor\":\"white\",\"ticks\":\"\",\"title\":{\"standoff\":15},\"zerolinecolor\":\"white\",\"zerolinewidth\":2},\"yaxis\":{\"automargin\":true,\"gridcolor\":\"white\",\"linecolor\":\"white\",\"ticks\":\"\",\"title\":{\"standoff\":15},\"zerolinecolor\":\"white\",\"zerolinewidth\":2}}},\"shapes\":[{\"line\":{\"dash\":\"dash\"},\"type\":\"line\",\"x0\":0,\"x1\":1,\"y0\":0,\"y1\":1}],\"yaxis\":{\"title\":{\"text\":\"True Positive Rate\"},\"scaleanchor\":\"x\",\"scaleratio\":1},\"xaxis\":{\"title\":{\"text\":\"False Positive Rate\"},\"constrain\":\"domain\"},\"width\":700,\"height\":500},                        {\"responsive\": true}                    ).then(function(){\n",
              "                            \n",
              "var gd = document.getElementById('1d522863-330e-4ca7-9675-4d6c39afa8f9');\n",
              "var x = new MutationObserver(function (mutations, observer) {{\n",
              "        var display = window.getComputedStyle(gd).display;\n",
              "        if (!display || display === 'none') {{\n",
              "            console.log([gd, 'removed!']);\n",
              "            Plotly.purge(gd);\n",
              "            observer.disconnect();\n",
              "        }}\n",
              "}});\n",
              "\n",
              "// Listen for the removal of the full notebook cells\n",
              "var notebookContainer = gd.closest('#notebook-container');\n",
              "if (notebookContainer) {{\n",
              "    x.observe(notebookContainer, {childList: true});\n",
              "}}\n",
              "\n",
              "// Listen for the clearing of the current output cell\n",
              "var outputEl = gd.closest('.output');\n",
              "if (outputEl) {{\n",
              "    x.observe(outputEl, {childList: true});\n",
              "}}\n",
              "\n",
              "                        })                };                            </script>        </div>\n",
              "</body>\n",
              "</html>"
            ]
          },
          "metadata": {}
        }
      ]
    },
    {
      "cell_type": "code",
      "source": [
        "from sklearn.metrics import precision_recall_curve, average_precision_score\n",
        "\n",
        "fig = go.Figure()\n",
        "fig.add_shape(\n",
        "    type='line', line=dict(dash='dash'),\n",
        "    x0=0, x1=1, y0=1, y1=0\n",
        ")\n",
        "\n",
        "for i in range(y_predicted_prob.shape[1]):\n",
        "    y_true = y_onehot.iloc[:, i]\n",
        "    y_score = y_predicted_prob[:, i]\n",
        "\n",
        "    precision, recall, _ = precision_recall_curve(y_true, y_score)\n",
        "    auc_score = average_precision_score(y_true, y_score)\n",
        "\n",
        "    name = f\"{y_onehot.columns[i]} (AP={auc_score:.2f})\"\n",
        "    fig.add_trace(go.Scatter(x=recall, y=precision, name=name, mode='lines'))\n",
        "\n",
        "fig.update_layout(\n",
        "    xaxis_title='Recall',\n",
        "    yaxis_title='Precision',\n",
        "    yaxis=dict(scaleanchor=\"x\", scaleratio=1),\n",
        "    xaxis=dict(constrain='domain'),\n",
        "    width=700, height=500\n",
        ")\n",
        "fig.show()"
      ],
      "metadata": {
        "colab": {
          "base_uri": "https://localhost:8080/",
          "height": 517
        },
        "id": "6jQq4MVPpTb_",
        "outputId": "fd9fca75-7d4a-4cf0-9f93-bc7af8b5ef85"
      },
      "execution_count": 60,
      "outputs": [
        {
          "output_type": "display_data",
          "data": {
            "text/html": [
              "<html>\n",
              "<head><meta charset=\"utf-8\" /></head>\n",
              "<body>\n",
              "    <div>            <script src=\"https://cdnjs.cloudflare.com/ajax/libs/mathjax/2.7.5/MathJax.js?config=TeX-AMS-MML_SVG\"></script><script type=\"text/javascript\">if (window.MathJax) {MathJax.Hub.Config({SVG: {font: \"STIX-Web\"}});}</script>                <script type=\"text/javascript\">window.PlotlyConfig = {MathJaxConfig: 'local'};</script>\n",
              "        <script src=\"https://cdn.plot.ly/plotly-2.8.3.min.js\"></script>                <div id=\"7ddae7a3-9603-4456-bd2f-1ff4bf26c7cf\" class=\"plotly-graph-div\" style=\"height:500px; width:700px;\"></div>            <script type=\"text/javascript\">                                    window.PLOTLYENV=window.PLOTLYENV || {};                                    if (document.getElementById(\"7ddae7a3-9603-4456-bd2f-1ff4bf26c7cf\")) {                    Plotly.newPlot(                        \"7ddae7a3-9603-4456-bd2f-1ff4bf26c7cf\",                        [{\"mode\":\"lines\",\"name\":\"Healthy (AP=0.99)\",\"x\":[1.0,0.9926470588235294,0.9926470588235294,0.9926470588235294,0.9926470588235294,0.9926470588235294,0.9926470588235294,0.9926470588235294,0.9926470588235294,0.9926470588235294,0.9926470588235294,0.9926470588235294,0.9926470588235294,0.9926470588235294,0.9926470588235294,0.9926470588235294,0.9926470588235294,0.9926470588235294,0.9926470588235294,0.9926470588235294,0.9926470588235294,0.9926470588235294,0.9926470588235294,0.9926470588235294,0.9926470588235294,0.9926470588235294,0.9926470588235294,0.9926470588235294,0.9926470588235294,0.9926470588235294,0.9926470588235294,0.9926470588235294,0.9926470588235294,0.9926470588235294,0.9852941176470589,0.9852941176470589,0.9852941176470589,0.9852941176470589,0.9852941176470589,0.9852941176470589,0.9852941176470589,0.9852941176470589,0.9852941176470589,0.9852941176470589,0.9852941176470589,0.9852941176470589,0.9852941176470589,0.9852941176470589,0.9852941176470589,0.9852941176470589,0.9852941176470589,0.9852941176470589,0.9852941176470589,0.9852941176470589,0.9779411764705882,0.9779411764705882,0.9779411764705882,0.9779411764705882,0.9705882352941176,0.9705882352941176,0.9632352941176471,0.9632352941176471,0.9632352941176471,0.9558823529411765,0.9558823529411765,0.9558823529411765,0.9485294117647058,0.9411764705882353,0.9411764705882353,0.9338235294117647,0.9264705882352942,0.9191176470588235,0.9117647058823529,0.9044117647058824,0.8970588235294118,0.8897058823529411,0.8823529411764706,0.875,0.8676470588235294,0.8602941176470589,0.8529411764705882,0.8455882352941176,0.8455882352941176,0.8382352941176471,0.8382352941176471,0.8308823529411765,0.8235294117647058,0.8235294117647058,0.8161764705882353,0.8088235294117647,0.8014705882352942,0.7941176470588235,0.7867647058823529,0.7794117647058824,0.7720588235294118,0.7647058823529411,0.7573529411764706,0.75,0.7426470588235294,0.7352941176470589,0.7279411764705882,0.7205882352941176,0.7132352941176471,0.7058823529411765,0.6985294117647058,0.6911764705882353,0.6838235294117647,0.6764705882352942,0.6691176470588235,0.6617647058823529,0.6544117647058824,0.6470588235294118,0.6397058823529411,0.6323529411764706,0.625,0.6176470588235294,0.6102941176470589,0.6029411764705882,0.5955882352941176,0.5882352941176471,0.5808823529411765,0.5735294117647058,0.5661764705882353,0.5588235294117647,0.5514705882352942,0.5441176470588235,0.5367647058823529,0.5294117647058824,0.5220588235294118,0.5147058823529411,0.5073529411764706,0.5,0.49264705882352944,0.4852941176470588,0.47794117647058826,0.47058823529411764,0.4632352941176471,0.45588235294117646,0.4485294117647059,0.4411764705882353,0.4338235294117647,0.4264705882352941,0.41911764705882354,0.41911764705882354,0.4117647058823529,0.40441176470588236,0.39705882352941174,0.3897058823529412,0.38235294117647056,0.375,0.36764705882352944,0.3602941176470588,0.35294117647058826,0.34558823529411764,0.3382352941176471,0.33088235294117646,0.3235294117647059,0.3161764705882353,0.3088235294117647,0.3014705882352941,0.29411764705882354,0.2867647058823529,0.27941176470588236,0.27205882352941174,0.2647058823529412,0.25735294117647056,0.25,0.2426470588235294,0.23529411764705882,0.22794117647058823,0.22058823529411764,0.21323529411764705,0.20588235294117646,0.19852941176470587,0.19117647058823528,0.18382352941176472,0.17647058823529413,0.16911764705882354,0.16176470588235295,0.15441176470588236,0.14705882352941177,0.13970588235294118,0.1323529411764706,0.125,0.11764705882352941,0.11029411764705882,0.10294117647058823,0.09558823529411764,0.08823529411764706,0.08088235294117647,0.07352941176470588,0.0661764705882353,0.058823529411764705,0.051470588235294115,0.04411764705882353,0.03676470588235294,0.029411764705882353,0.022058823529411766,0.014705882352941176,0.007352941176470588,0.0],\"y\":[0.6666666666666666,0.6650246305418719,0.6683168316831684,0.6716417910447762,0.675,0.678391959798995,0.6818181818181818,0.6852791878172588,0.6958762886597938,0.703125,0.7068062827225131,0.7105263157894737,0.7142857142857143,0.7180851063829787,0.7219251336898396,0.7258064516129032,0.7297297297297297,0.7336956521739131,0.7377049180327869,0.7417582417582418,0.7458563535911602,0.75,0.7541899441340782,0.7584269662921348,0.7627118644067796,0.7670454545454546,0.7714285714285715,0.7803468208092486,0.7848837209302325,0.7894736842105263,0.7941176470588235,0.7988165680473372,0.8035714285714286,0.8083832335329342,0.8072289156626506,0.8121212121212121,0.8170731707317073,0.8220858895705522,0.8271604938271605,0.8322981366459627,0.8375,0.8427672955974843,0.8481012658227848,0.8535031847133758,0.8589743589743589,0.864516129032258,0.8701298701298701,0.8758169934640523,0.881578947368421,0.8874172185430463,0.8933333333333333,0.8993288590604027,0.9054054054054054,0.9115646258503401,0.910958904109589,0.9172413793103448,0.9236111111111112,0.9300699300699301,0.9295774647887324,0.9361702127659575,0.9357142857142857,0.9424460431654677,0.9492753623188406,0.948905109489051,0.9558823529411765,0.9629629629629629,0.9626865671641791,0.9624060150375939,0.9696969696969697,0.9694656488549618,0.9692307692307692,0.9689922480620154,0.96875,0.968503937007874,0.9682539682539683,0.968,0.967741935483871,0.967479674796748,0.9672131147540983,0.9669421487603306,0.9666666666666667,0.9663865546218487,0.9745762711864406,0.9743589743589743,0.9827586206896551,0.9826086956521739,0.9824561403508771,0.9911504424778761,0.9910714285714286,0.990990990990991,0.990909090909091,0.9908256880733946,0.9907407407407407,0.9906542056074766,0.9905660377358491,0.9904761904761905,0.9903846153846154,0.9902912621359223,0.9901960784313726,0.9900990099009901,0.99,0.98989898989899,0.9897959183673469,0.9896907216494846,0.9895833333333334,0.9894736842105263,0.9893617021276596,0.989247311827957,0.9891304347826086,0.989010989010989,0.9888888888888889,0.9887640449438202,0.9886363636363636,0.9885057471264368,0.9883720930232558,0.9882352941176471,0.9880952380952381,0.9879518072289156,0.9878048780487805,0.9876543209876543,0.9875,0.9873417721518988,0.9871794871794872,0.987012987012987,0.9868421052631579,0.9866666666666667,0.9864864864864865,0.9863013698630136,0.9861111111111112,0.9859154929577465,0.9857142857142858,0.9855072463768116,0.9852941176470589,0.9850746268656716,0.9848484848484849,0.9846153846153847,0.984375,0.9841269841269841,0.9838709677419355,0.9836065573770492,0.9833333333333333,0.9830508474576272,0.9827586206896551,1.0,1.0,1.0,1.0,1.0,1.0,1.0,1.0,1.0,1.0,1.0,1.0,1.0,1.0,1.0,1.0,1.0,1.0,1.0,1.0,1.0,1.0,1.0,1.0,1.0,1.0,1.0,1.0,1.0,1.0,1.0,1.0,1.0,1.0,1.0,1.0,1.0,1.0,1.0,1.0,1.0,1.0,1.0,1.0,1.0,1.0,1.0,1.0,1.0,1.0,1.0,1.0,1.0,1.0,1.0,1.0,1.0,1.0],\"type\":\"scatter\"},{\"mode\":\"lines\",\"name\":\"Ill (AP=0.99)\",\"x\":[1.0,0.9951456310679612,0.9951456310679612,0.9951456310679612,0.9951456310679612,0.9951456310679612,0.9951456310679612,0.9951456310679612,0.9951456310679612,0.9951456310679612,0.9951456310679612,0.9951456310679612,0.9951456310679612,0.9951456310679612,0.9951456310679612,0.9951456310679612,0.9951456310679612,0.9951456310679612,0.9951456310679612,0.9951456310679612,0.9951456310679612,0.9951456310679612,0.9951456310679612,0.9951456310679612,0.9951456310679612,0.9951456310679612,0.9951456310679612,0.9951456310679612,0.9951456310679612,0.9951456310679612,0.9951456310679612,0.9951456310679612,0.9951456310679612,0.9951456310679612,0.9951456310679612,0.9951456310679612,0.9951456310679612,0.9951456310679612,0.9951456310679612,0.9951456310679612,0.9951456310679612,0.9951456310679612,0.9951456310679612,0.9951456310679612,0.9951456310679612,0.9951456310679612,0.9951456310679612,0.9951456310679612,0.9951456310679612,0.9951456310679612,0.9951456310679612,0.9951456310679612,0.9951456310679612,0.9951456310679612,0.9951456310679612,0.9951456310679612,0.9951456310679612,0.9902912621359223,0.9902912621359223,0.9902912621359223,0.9854368932038835,0.9854368932038835,0.9805825242718447,0.9805825242718447,0.9805825242718447,0.9805825242718447,0.9805825242718447,0.9805825242718447,0.9805825242718447,0.9805825242718447,0.9805825242718447,0.9805825242718447,0.9805825242718447,0.9805825242718447,0.9805825242718447,0.9805825242718447,0.9757281553398058,0.9757281553398058,0.9757281553398058,0.970873786407767,0.9660194174757282,0.9660194174757282,0.9611650485436893,0.9563106796116505,0.9563106796116505,0.9514563106796117,0.9514563106796117,0.9466019417475728,0.941747572815534,0.9368932038834952,0.9368932038834952,0.9320388349514563,0.9271844660194175,0.9223300970873787,0.9174757281553398,0.912621359223301,0.9077669902912622,0.9029126213592233,0.8980582524271845,0.8932038834951457,0.8883495145631068,0.883495145631068,0.8786407766990292,0.8737864077669902,0.8689320388349514,0.8640776699029126,0.8592233009708737,0.8543689320388349,0.8495145631067961,0.8446601941747572,0.8446601941747572,0.8398058252427184,0.8349514563106796,0.8300970873786407,0.8252427184466019,0.8203883495145631,0.8155339805825242,0.8058252427184466,0.8009708737864077,0.7961165048543689,0.7912621359223301,0.7864077669902912,0.7815533980582524,0.7766990291262136,0.7718446601941747,0.7669902912621359,0.7621359223300971,0.7572815533980582,0.7524271844660194,0.7475728155339806,0.7427184466019418,0.7378640776699029,0.7330097087378641,0.7281553398058253,0.7233009708737864,0.7135922330097088,0.6990291262135923,0.6941747572815534,0.6893203883495146,0.6844660194174758,0.6796116504854369,0.6747572815533981,0.6699029126213593,0.6699029126213593,0.6650485436893204,0.6601941747572816,0.6553398058252428,0.6504854368932039,0.6456310679611651,0.6407766990291263,0.6359223300970874,0.6310679611650486,0.6262135922330098,0.6213592233009708,0.616504854368932,0.6116504854368932,0.6067961165048543,0.6019417475728155,0.5970873786407767,0.5922330097087378,0.587378640776699,0.5825242718446602,0.5776699029126213,0.5728155339805825,0.5679611650485437,0.5631067961165048,0.558252427184466,0.5533980582524272,0.5485436893203883,0.5436893203883495,0.5388349514563107,0.5339805825242718,0.529126213592233,0.5242718446601942,0.5194174757281553,0.5145631067961165,0.5097087378640777,0.5048543689320388,0.5,0.49514563106796117,0.49029126213592233,0.4854368932038835,0.48058252427184467,0.47572815533980584,0.470873786407767,0.46601941747572817,0.46116504854368934,0.4563106796116505,0.45145631067961167,0.44660194174757284,0.441747572815534,0.4368932038834951,0.4320388349514563,0.42718446601941745,0.4223300970873786,0.4174757281553398,0.41262135922330095,0.4077669902912621,0.4029126213592233,0.39805825242718446,0.3932038834951456,0.3883495145631068,0.38349514563106796,0.3786407766990291,0.3737864077669903,0.36893203883495146,0.3640776699029126,0.3592233009708738,0.35436893203883496,0.34951456310679613,0.3446601941747573,0.33980582524271846,0.33495145631067963,0.3300970873786408,0.32524271844660196,0.32038834951456313,0.3155339805825243,0.3106796116504854,0.3058252427184466,0.30097087378640774,0.2961165048543689,0.2912621359223301,0.28640776699029125,0.2815533980582524,0.2766990291262136,0.27184466019417475,0.2669902912621359,0.2621359223300971,0.25728155339805825,0.2524271844660194,0.24757281553398058,0.24271844660194175,0.23786407766990292,0.23300970873786409,0.22815533980582525,0.22330097087378642,0.21359223300970873,0.2087378640776699,0.20388349514563106,0.19902912621359223,0.1941747572815534,0.18932038834951456,0.18446601941747573,0.1796116504854369,0.17475728155339806,0.16990291262135923,0.1650485436893204,0.16019417475728157,0.1553398058252427,0.15048543689320387,0.14563106796116504,0.1407766990291262,0.13592233009708737,0.13106796116504854,0.1262135922330097,0.12135922330097088,0.11650485436893204,0.11165048543689321,0.10679611650485436,0.10194174757281553,0.0970873786407767,0.09223300970873786,0.08737864077669903,0.0825242718446602,0.07766990291262135,0.07281553398058252,0.06796116504854369,0.06310679611650485,0.05825242718446602,0.05339805825242718,0.04854368932038835,0.043689320388349516,0.038834951456310676,0.03398058252427184,0.024271844660194174,0.019417475728155338,0.014563106796116505,0.009708737864077669,0.0048543689320388345,0.0],\"y\":[0.7228070175438597,0.721830985915493,0.7243816254416962,0.7269503546099291,0.7295373665480427,0.7321428571428571,0.7347670250896058,0.737410071942446,0.740072202166065,0.7427536231884058,0.7454545454545455,0.7481751824817519,0.7509157509157509,0.7536764705882353,0.7564575645756457,0.7592592592592593,0.7620817843866171,0.7649253731343284,0.7677902621722846,0.7706766917293233,0.7735849056603774,0.7765151515151515,0.779467680608365,0.7824427480916031,0.7854406130268199,0.7884615384615384,0.7915057915057915,0.7945736434108527,0.7976653696498055,0.80078125,0.803921568627451,0.8070866141732284,0.8102766798418972,0.8134920634920635,0.8167330677290837,0.82,0.8232931726907631,0.8266129032258065,0.8299595141700404,0.8333333333333334,0.8367346938775511,0.8401639344262295,0.8436213991769548,0.8471074380165289,0.8506224066390041,0.8541666666666666,0.8577405857740585,0.8613445378151261,0.8649789029535865,0.8686440677966102,0.8723404255319149,0.8760683760683761,0.8798283261802575,0.8836206896551724,0.8874458874458875,0.8913043478260869,0.8951965065502183,0.8947368421052632,0.8986784140969163,0.9026548672566371,0.9022222222222223,0.90625,0.905829596412556,0.9099099099099099,0.9140271493212669,0.9181818181818182,0.9223744292237442,0.926605504587156,0.9308755760368663,0.9351851851851852,0.9395348837209302,0.9439252336448598,0.9483568075117371,0.9528301886792453,0.957345971563981,0.9619047619047619,0.9617224880382775,0.9663461538461539,0.9710144927536232,0.970873786407767,0.9707317073170731,0.9754901960784313,0.9753694581280788,0.9752475247524752,0.9800995024875622,0.98,0.9849246231155779,0.9848484848484849,0.9847715736040609,0.9846938775510204,0.9897435897435898,0.9896907216494846,0.9896373056994818,0.9895833333333334,0.9895287958115183,0.9894736842105263,0.9894179894179894,0.9893617021276596,0.9893048128342246,0.989247311827957,0.9891891891891892,0.9891304347826086,0.9890710382513661,0.989010989010989,0.988950276243094,0.9888888888888889,0.9888268156424581,0.9887640449438202,0.9887005649717514,0.9886363636363636,0.9942857142857143,0.9942528735632183,0.9942196531791907,0.9941860465116279,0.9941520467836257,0.9941176470588236,0.9940828402366864,0.9940119760479041,0.9939759036144579,0.9939393939393939,0.9939024390243902,0.9938650306748467,0.9938271604938271,0.9937888198757764,0.99375,0.9937106918238994,0.9936708860759493,0.9936305732484076,0.9935897435897436,0.9935483870967742,0.9935064935064936,0.9934640522875817,0.993421052631579,0.9933774834437086,0.9933333333333333,0.9932432432432432,0.993103448275862,0.9930555555555556,0.993006993006993,0.9929577464788732,0.9929078014184397,0.9928571428571429,0.9928057553956835,1.0,1.0,1.0,1.0,1.0,1.0,1.0,1.0,1.0,1.0,1.0,1.0,1.0,1.0,1.0,1.0,1.0,1.0,1.0,1.0,1.0,1.0,1.0,1.0,1.0,1.0,1.0,1.0,1.0,1.0,1.0,1.0,1.0,1.0,1.0,1.0,1.0,1.0,1.0,1.0,1.0,1.0,1.0,1.0,1.0,1.0,1.0,1.0,1.0,1.0,1.0,1.0,1.0,1.0,1.0,1.0,1.0,1.0,1.0,1.0,1.0,1.0,1.0,1.0,1.0,1.0,1.0,1.0,1.0,1.0,1.0,1.0,1.0,1.0,1.0,1.0,1.0,1.0,1.0,1.0,1.0,1.0,1.0,1.0,1.0,1.0,1.0,1.0,1.0,1.0,1.0,1.0,1.0,1.0,1.0,1.0,1.0,1.0,1.0,1.0,1.0,1.0,1.0,1.0,1.0,1.0,1.0,1.0,1.0,1.0,1.0,1.0,1.0,1.0,1.0,1.0,1.0,1.0,1.0,1.0,1.0,1.0,1.0,1.0,1.0,1.0,1.0,1.0,1.0,1.0,1.0,1.0,1.0,1.0,1.0,1.0,1.0],\"type\":\"scatter\"}],                        {\"template\":{\"data\":{\"bar\":[{\"error_x\":{\"color\":\"#2a3f5f\"},\"error_y\":{\"color\":\"#2a3f5f\"},\"marker\":{\"line\":{\"color\":\"#E5ECF6\",\"width\":0.5},\"pattern\":{\"fillmode\":\"overlay\",\"size\":10,\"solidity\":0.2}},\"type\":\"bar\"}],\"barpolar\":[{\"marker\":{\"line\":{\"color\":\"#E5ECF6\",\"width\":0.5},\"pattern\":{\"fillmode\":\"overlay\",\"size\":10,\"solidity\":0.2}},\"type\":\"barpolar\"}],\"carpet\":[{\"aaxis\":{\"endlinecolor\":\"#2a3f5f\",\"gridcolor\":\"white\",\"linecolor\":\"white\",\"minorgridcolor\":\"white\",\"startlinecolor\":\"#2a3f5f\"},\"baxis\":{\"endlinecolor\":\"#2a3f5f\",\"gridcolor\":\"white\",\"linecolor\":\"white\",\"minorgridcolor\":\"white\",\"startlinecolor\":\"#2a3f5f\"},\"type\":\"carpet\"}],\"choropleth\":[{\"colorbar\":{\"outlinewidth\":0,\"ticks\":\"\"},\"type\":\"choropleth\"}],\"contour\":[{\"colorbar\":{\"outlinewidth\":0,\"ticks\":\"\"},\"colorscale\":[[0.0,\"#0d0887\"],[0.1111111111111111,\"#46039f\"],[0.2222222222222222,\"#7201a8\"],[0.3333333333333333,\"#9c179e\"],[0.4444444444444444,\"#bd3786\"],[0.5555555555555556,\"#d8576b\"],[0.6666666666666666,\"#ed7953\"],[0.7777777777777778,\"#fb9f3a\"],[0.8888888888888888,\"#fdca26\"],[1.0,\"#f0f921\"]],\"type\":\"contour\"}],\"contourcarpet\":[{\"colorbar\":{\"outlinewidth\":0,\"ticks\":\"\"},\"type\":\"contourcarpet\"}],\"heatmap\":[{\"colorbar\":{\"outlinewidth\":0,\"ticks\":\"\"},\"colorscale\":[[0.0,\"#0d0887\"],[0.1111111111111111,\"#46039f\"],[0.2222222222222222,\"#7201a8\"],[0.3333333333333333,\"#9c179e\"],[0.4444444444444444,\"#bd3786\"],[0.5555555555555556,\"#d8576b\"],[0.6666666666666666,\"#ed7953\"],[0.7777777777777778,\"#fb9f3a\"],[0.8888888888888888,\"#fdca26\"],[1.0,\"#f0f921\"]],\"type\":\"heatmap\"}],\"heatmapgl\":[{\"colorbar\":{\"outlinewidth\":0,\"ticks\":\"\"},\"colorscale\":[[0.0,\"#0d0887\"],[0.1111111111111111,\"#46039f\"],[0.2222222222222222,\"#7201a8\"],[0.3333333333333333,\"#9c179e\"],[0.4444444444444444,\"#bd3786\"],[0.5555555555555556,\"#d8576b\"],[0.6666666666666666,\"#ed7953\"],[0.7777777777777778,\"#fb9f3a\"],[0.8888888888888888,\"#fdca26\"],[1.0,\"#f0f921\"]],\"type\":\"heatmapgl\"}],\"histogram\":[{\"marker\":{\"pattern\":{\"fillmode\":\"overlay\",\"size\":10,\"solidity\":0.2}},\"type\":\"histogram\"}],\"histogram2d\":[{\"colorbar\":{\"outlinewidth\":0,\"ticks\":\"\"},\"colorscale\":[[0.0,\"#0d0887\"],[0.1111111111111111,\"#46039f\"],[0.2222222222222222,\"#7201a8\"],[0.3333333333333333,\"#9c179e\"],[0.4444444444444444,\"#bd3786\"],[0.5555555555555556,\"#d8576b\"],[0.6666666666666666,\"#ed7953\"],[0.7777777777777778,\"#fb9f3a\"],[0.8888888888888888,\"#fdca26\"],[1.0,\"#f0f921\"]],\"type\":\"histogram2d\"}],\"histogram2dcontour\":[{\"colorbar\":{\"outlinewidth\":0,\"ticks\":\"\"},\"colorscale\":[[0.0,\"#0d0887\"],[0.1111111111111111,\"#46039f\"],[0.2222222222222222,\"#7201a8\"],[0.3333333333333333,\"#9c179e\"],[0.4444444444444444,\"#bd3786\"],[0.5555555555555556,\"#d8576b\"],[0.6666666666666666,\"#ed7953\"],[0.7777777777777778,\"#fb9f3a\"],[0.8888888888888888,\"#fdca26\"],[1.0,\"#f0f921\"]],\"type\":\"histogram2dcontour\"}],\"mesh3d\":[{\"colorbar\":{\"outlinewidth\":0,\"ticks\":\"\"},\"type\":\"mesh3d\"}],\"parcoords\":[{\"line\":{\"colorbar\":{\"outlinewidth\":0,\"ticks\":\"\"}},\"type\":\"parcoords\"}],\"pie\":[{\"automargin\":true,\"type\":\"pie\"}],\"scatter\":[{\"marker\":{\"colorbar\":{\"outlinewidth\":0,\"ticks\":\"\"}},\"type\":\"scatter\"}],\"scatter3d\":[{\"line\":{\"colorbar\":{\"outlinewidth\":0,\"ticks\":\"\"}},\"marker\":{\"colorbar\":{\"outlinewidth\":0,\"ticks\":\"\"}},\"type\":\"scatter3d\"}],\"scattercarpet\":[{\"marker\":{\"colorbar\":{\"outlinewidth\":0,\"ticks\":\"\"}},\"type\":\"scattercarpet\"}],\"scattergeo\":[{\"marker\":{\"colorbar\":{\"outlinewidth\":0,\"ticks\":\"\"}},\"type\":\"scattergeo\"}],\"scattergl\":[{\"marker\":{\"colorbar\":{\"outlinewidth\":0,\"ticks\":\"\"}},\"type\":\"scattergl\"}],\"scattermapbox\":[{\"marker\":{\"colorbar\":{\"outlinewidth\":0,\"ticks\":\"\"}},\"type\":\"scattermapbox\"}],\"scatterpolar\":[{\"marker\":{\"colorbar\":{\"outlinewidth\":0,\"ticks\":\"\"}},\"type\":\"scatterpolar\"}],\"scatterpolargl\":[{\"marker\":{\"colorbar\":{\"outlinewidth\":0,\"ticks\":\"\"}},\"type\":\"scatterpolargl\"}],\"scatterternary\":[{\"marker\":{\"colorbar\":{\"outlinewidth\":0,\"ticks\":\"\"}},\"type\":\"scatterternary\"}],\"surface\":[{\"colorbar\":{\"outlinewidth\":0,\"ticks\":\"\"},\"colorscale\":[[0.0,\"#0d0887\"],[0.1111111111111111,\"#46039f\"],[0.2222222222222222,\"#7201a8\"],[0.3333333333333333,\"#9c179e\"],[0.4444444444444444,\"#bd3786\"],[0.5555555555555556,\"#d8576b\"],[0.6666666666666666,\"#ed7953\"],[0.7777777777777778,\"#fb9f3a\"],[0.8888888888888888,\"#fdca26\"],[1.0,\"#f0f921\"]],\"type\":\"surface\"}],\"table\":[{\"cells\":{\"fill\":{\"color\":\"#EBF0F8\"},\"line\":{\"color\":\"white\"}},\"header\":{\"fill\":{\"color\":\"#C8D4E3\"},\"line\":{\"color\":\"white\"}},\"type\":\"table\"}]},\"layout\":{\"annotationdefaults\":{\"arrowcolor\":\"#2a3f5f\",\"arrowhead\":0,\"arrowwidth\":1},\"autotypenumbers\":\"strict\",\"coloraxis\":{\"colorbar\":{\"outlinewidth\":0,\"ticks\":\"\"}},\"colorscale\":{\"diverging\":[[0,\"#8e0152\"],[0.1,\"#c51b7d\"],[0.2,\"#de77ae\"],[0.3,\"#f1b6da\"],[0.4,\"#fde0ef\"],[0.5,\"#f7f7f7\"],[0.6,\"#e6f5d0\"],[0.7,\"#b8e186\"],[0.8,\"#7fbc41\"],[0.9,\"#4d9221\"],[1,\"#276419\"]],\"sequential\":[[0.0,\"#0d0887\"],[0.1111111111111111,\"#46039f\"],[0.2222222222222222,\"#7201a8\"],[0.3333333333333333,\"#9c179e\"],[0.4444444444444444,\"#bd3786\"],[0.5555555555555556,\"#d8576b\"],[0.6666666666666666,\"#ed7953\"],[0.7777777777777778,\"#fb9f3a\"],[0.8888888888888888,\"#fdca26\"],[1.0,\"#f0f921\"]],\"sequentialminus\":[[0.0,\"#0d0887\"],[0.1111111111111111,\"#46039f\"],[0.2222222222222222,\"#7201a8\"],[0.3333333333333333,\"#9c179e\"],[0.4444444444444444,\"#bd3786\"],[0.5555555555555556,\"#d8576b\"],[0.6666666666666666,\"#ed7953\"],[0.7777777777777778,\"#fb9f3a\"],[0.8888888888888888,\"#fdca26\"],[1.0,\"#f0f921\"]]},\"colorway\":[\"#636efa\",\"#EF553B\",\"#00cc96\",\"#ab63fa\",\"#FFA15A\",\"#19d3f3\",\"#FF6692\",\"#B6E880\",\"#FF97FF\",\"#FECB52\"],\"font\":{\"color\":\"#2a3f5f\"},\"geo\":{\"bgcolor\":\"white\",\"lakecolor\":\"white\",\"landcolor\":\"#E5ECF6\",\"showlakes\":true,\"showland\":true,\"subunitcolor\":\"white\"},\"hoverlabel\":{\"align\":\"left\"},\"hovermode\":\"closest\",\"mapbox\":{\"style\":\"light\"},\"paper_bgcolor\":\"white\",\"plot_bgcolor\":\"#E5ECF6\",\"polar\":{\"angularaxis\":{\"gridcolor\":\"white\",\"linecolor\":\"white\",\"ticks\":\"\"},\"bgcolor\":\"#E5ECF6\",\"radialaxis\":{\"gridcolor\":\"white\",\"linecolor\":\"white\",\"ticks\":\"\"}},\"scene\":{\"xaxis\":{\"backgroundcolor\":\"#E5ECF6\",\"gridcolor\":\"white\",\"gridwidth\":2,\"linecolor\":\"white\",\"showbackground\":true,\"ticks\":\"\",\"zerolinecolor\":\"white\"},\"yaxis\":{\"backgroundcolor\":\"#E5ECF6\",\"gridcolor\":\"white\",\"gridwidth\":2,\"linecolor\":\"white\",\"showbackground\":true,\"ticks\":\"\",\"zerolinecolor\":\"white\"},\"zaxis\":{\"backgroundcolor\":\"#E5ECF6\",\"gridcolor\":\"white\",\"gridwidth\":2,\"linecolor\":\"white\",\"showbackground\":true,\"ticks\":\"\",\"zerolinecolor\":\"white\"}},\"shapedefaults\":{\"line\":{\"color\":\"#2a3f5f\"}},\"ternary\":{\"aaxis\":{\"gridcolor\":\"white\",\"linecolor\":\"white\",\"ticks\":\"\"},\"baxis\":{\"gridcolor\":\"white\",\"linecolor\":\"white\",\"ticks\":\"\"},\"bgcolor\":\"#E5ECF6\",\"caxis\":{\"gridcolor\":\"white\",\"linecolor\":\"white\",\"ticks\":\"\"}},\"title\":{\"x\":0.05},\"xaxis\":{\"automargin\":true,\"gridcolor\":\"white\",\"linecolor\":\"white\",\"ticks\":\"\",\"title\":{\"standoff\":15},\"zerolinecolor\":\"white\",\"zerolinewidth\":2},\"yaxis\":{\"automargin\":true,\"gridcolor\":\"white\",\"linecolor\":\"white\",\"ticks\":\"\",\"title\":{\"standoff\":15},\"zerolinecolor\":\"white\",\"zerolinewidth\":2}}},\"shapes\":[{\"line\":{\"dash\":\"dash\"},\"type\":\"line\",\"x0\":0,\"x1\":1,\"y0\":1,\"y1\":0}],\"yaxis\":{\"title\":{\"text\":\"Precision\"},\"scaleanchor\":\"x\",\"scaleratio\":1},\"xaxis\":{\"title\":{\"text\":\"Recall\"},\"constrain\":\"domain\"},\"width\":700,\"height\":500},                        {\"responsive\": true}                    ).then(function(){\n",
              "                            \n",
              "var gd = document.getElementById('7ddae7a3-9603-4456-bd2f-1ff4bf26c7cf');\n",
              "var x = new MutationObserver(function (mutations, observer) {{\n",
              "        var display = window.getComputedStyle(gd).display;\n",
              "        if (!display || display === 'none') {{\n",
              "            console.log([gd, 'removed!']);\n",
              "            Plotly.purge(gd);\n",
              "            observer.disconnect();\n",
              "        }}\n",
              "}});\n",
              "\n",
              "// Listen for the removal of the full notebook cells\n",
              "var notebookContainer = gd.closest('#notebook-container');\n",
              "if (notebookContainer) {{\n",
              "    x.observe(notebookContainer, {childList: true});\n",
              "}}\n",
              "\n",
              "// Listen for the clearing of the current output cell\n",
              "var outputEl = gd.closest('.output');\n",
              "if (outputEl) {{\n",
              "    x.observe(outputEl, {childList: true});\n",
              "}}\n",
              "\n",
              "                        })                };                            </script>        </div>\n",
              "</body>\n",
              "</html>"
            ]
          },
          "metadata": {}
        }
      ]
    },
    {
      "cell_type": "code",
      "source": [
        "from sklearn.metrics import classification_report\n",
        "\n",
        "print(classification_report(test_labels, pred, target_names=['Healthy', 'Ill']))"
      ],
      "metadata": {
        "colab": {
          "base_uri": "https://localhost:8080/"
        },
        "id": "epF0xunxppWy",
        "outputId": "8d18e48c-8cbe-4ae7-a3a0-b883876449da"
      },
      "execution_count": 53,
      "outputs": [
        {
          "output_type": "stream",
          "name": "stdout",
          "text": [
            "              precision    recall  f1-score   support\n",
            "\n",
            "     Healthy       0.96      0.95      0.96       136\n",
            "         Ill       0.97      0.98      0.97       206\n",
            "\n",
            "    accuracy                           0.96       342\n",
            "   macro avg       0.96      0.96      0.96       342\n",
            "weighted avg       0.96      0.96      0.96       342\n",
            "\n"
          ]
        }
      ]
    },
    {
      "cell_type": "code",
      "source": [
        "import seaborn as sns\n",
        "import matplotlib.pyplot as plt     \n",
        "from sklearn.metrics import confusion_matrix\n",
        "ax= plt.subplot()\n",
        "con_mat=confusion_matrix(test_labels, predictions)\n",
        "sns.heatmap(con_mat/np.sum(con_mat), annot=True, fmt=\".2%\", cmap='Blues', ax=ax)\n",
        "\n",
        "ax.set_xlabel('Predicted labels')\n",
        "ax.set_ylabel('True labels')\n",
        "ax.set_title('Confusion Matrix')\n",
        "ax.xaxis.set_ticklabels(['Healthy', 'Ill'])\n",
        "ax.yaxis.set_ticklabels(['Healthy', 'Ill'])"
      ],
      "metadata": {
        "colab": {
          "base_uri": "https://localhost:8080/",
          "height": 313
        },
        "id": "x95yM_gNqR7Q",
        "outputId": "bce2edba-6ac5-46cd-e14f-23cb91f5deb1"
      },
      "execution_count": 54,
      "outputs": [
        {
          "output_type": "execute_result",
          "data": {
            "text/plain": [
              "[Text(0, 0.5, 'Healthy'), Text(0, 1.5, 'Ill')]"
            ]
          },
          "metadata": {},
          "execution_count": 54
        },
        {
          "output_type": "display_data",
          "data": {
            "text/plain": [
              "<Figure size 432x288 with 2 Axes>"
            ],
            "image/png": "[encoded data removed]"
          },
          "metadata": {
            "needs_background": "light"
          }
        }
      ]
    }
  ]
}